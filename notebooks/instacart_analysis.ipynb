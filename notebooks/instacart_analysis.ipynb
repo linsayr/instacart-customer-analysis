{
 "cells": [
  {
   "cell_type": "markdown",
   "id": "e1ca70f3",
   "metadata": {},
   "source": [
    "# 🛒 Instacart Customer Behavior Analysis\n",
    "\n",
    "This notebook analyzes customer order data from Instacart to uncover shopping patterns, such as popular times to order, most reordered products, and more."
   ]
  },
  {
   "cell_type": "markdown",
   "id": "056206ea",
   "metadata": {},
   "source": [
    "### 1.1 Import Libraries"
   ]
  },
  {
   "cell_type": "code",
   "execution_count": 59,
   "id": "4e50d424",
   "metadata": {},
   "outputs": [],
   "source": [
    "import pandas as pd\n",
    "import numpy as np\n",
    "import matplotlib.pyplot as plt\n",
    "import seaborn as sns"
   ]
  },
  {
   "cell_type": "markdown",
   "id": "e88b15c4",
   "metadata": {},
   "source": [
    "### 1.2 Load datasets"
   ]
  },
  {
   "cell_type": "code",
   "execution_count": 60,
   "id": "dbf4cfd8",
   "metadata": {},
   "outputs": [],
   "source": [
    "orders = pd.read_csv(\"../data/instacart_orders.csv\", delimiter=';')\n",
    "products = pd.read_csv(\"../data/products.csv\", delimiter=';')\n",
    "order_products = pd.read_csv(\"../data/order_products.csv\", delimiter=';')\n",
    "aisles = pd.read_csv(\"../data/aisles.csv\", delimiter=';')\n",
    "departments = pd.read_csv(\"../data/departments.csv\", delimiter=';')"
   ]
  },
  {
   "cell_type": "markdown",
   "id": "afd4dfb4",
   "metadata": {},
   "source": [
    "### 1.3 Quick Overview"
   ]
  },
  {
   "cell_type": "code",
   "execution_count": 61,
   "id": "96cb5fb0",
   "metadata": {},
   "outputs": [
    {
     "name": "stdout",
     "output_type": "stream",
     "text": [
      "First rows of each dataset:\n",
      "orders:\n",
      "   order_id  user_id  order_number  order_dow  order_hour_of_day  \\\n",
      "0   1515936   183418            11          6                 13   \n",
      "1   1690866   163593             5          5                 12   \n",
      "2   1454967    39980             4          5                 19   \n",
      "3   1768857    82516            56          0                 20   \n",
      "4   3007858   196724             2          4                 12   \n",
      "\n",
      "   days_since_prior_order  \n",
      "0                    30.0  \n",
      "1                     9.0  \n",
      "2                     2.0  \n",
      "3                    10.0  \n",
      "4                    17.0  \n",
      "\n",
      "products:\n",
      "   product_id                                       product_name  aisle_id  \\\n",
      "0           1                         Chocolate Sandwich Cookies        61   \n",
      "1           2                                   All-Seasons Salt       104   \n",
      "2           3               Robust Golden Unsweetened Oolong Tea        94   \n",
      "3           4  Smart Ones Classic Favorites Mini Rigatoni Wit...        38   \n",
      "4           5                          Green Chile Anytime Sauce         5   \n",
      "\n",
      "   department_id  \n",
      "0             19  \n",
      "1             13  \n",
      "2              7  \n",
      "3              1  \n",
      "4             13  \n",
      "\n",
      "order_products:\n",
      "   order_id  product_id  add_to_cart_order  reordered\n",
      "0   2141543       11440               17.0          0\n",
      "1    567889        1560                1.0          1\n",
      "2   2261212       26683                1.0          1\n",
      "3    491251        8670               35.0          1\n",
      "4   2571142        1940                5.0          1\n",
      "\n",
      "aisles:\n",
      "   aisle_id                       aisle\n",
      "0         1       prepared soups salads\n",
      "1         2           specialty cheeses\n",
      "2         3         energy granola bars\n",
      "3         4               instant foods\n",
      "4         5  marinades meat preparation\n",
      "\n",
      "departments:\n",
      "   department_id department\n",
      "0              1     frozen\n",
      "1              2      other\n",
      "2              3     bakery\n",
      "3              4    produce\n",
      "4              5    alcohol\n",
      "\n",
      "General info for each dataset:\n",
      "orders:\n",
      "<class 'pandas.core.frame.DataFrame'>\n",
      "RangeIndex: 478967 entries, 0 to 478966\n",
      "Data columns (total 6 columns):\n",
      " #   Column                  Non-Null Count   Dtype  \n",
      "---  ------                  --------------   -----  \n",
      " 0   order_id                478967 non-null  int64  \n",
      " 1   user_id                 478967 non-null  int64  \n",
      " 2   order_number            478967 non-null  int64  \n",
      " 3   order_dow               478967 non-null  int64  \n",
      " 4   order_hour_of_day       478967 non-null  int64  \n",
      " 5   days_since_prior_order  450148 non-null  float64\n",
      "dtypes: float64(1), int64(5)\n",
      "memory usage: 21.9 MB\n",
      "None\n",
      "\n",
      "products:\n",
      "<class 'pandas.core.frame.DataFrame'>\n",
      "RangeIndex: 49694 entries, 0 to 49693\n",
      "Data columns (total 4 columns):\n",
      " #   Column         Non-Null Count  Dtype \n",
      "---  ------         --------------  ----- \n",
      " 0   product_id     49694 non-null  int64 \n",
      " 1   product_name   48436 non-null  object\n",
      " 2   aisle_id       49694 non-null  int64 \n",
      " 3   department_id  49694 non-null  int64 \n",
      "dtypes: int64(3), object(1)\n",
      "memory usage: 1.5+ MB\n",
      "None\n",
      "\n",
      "order_products:\n",
      "<class 'pandas.core.frame.DataFrame'>\n",
      "RangeIndex: 4545007 entries, 0 to 4545006\n",
      "Data columns (total 4 columns):\n",
      " #   Column             Non-Null Count    Dtype  \n",
      "---  ------             --------------    -----  \n",
      " 0   order_id           4545007 non-null  int64  \n",
      " 1   product_id         4545007 non-null  int64  \n",
      " 2   add_to_cart_order  4544171 non-null  float64\n",
      " 3   reordered          4545007 non-null  int64  \n",
      "dtypes: float64(1), int64(3)\n",
      "memory usage: 138.7 MB\n",
      "None\n",
      "\n",
      "aisles:\n",
      "<class 'pandas.core.frame.DataFrame'>\n",
      "RangeIndex: 134 entries, 0 to 133\n",
      "Data columns (total 2 columns):\n",
      " #   Column    Non-Null Count  Dtype \n",
      "---  ------    --------------  ----- \n",
      " 0   aisle_id  134 non-null    int64 \n",
      " 1   aisle     134 non-null    object\n",
      "dtypes: int64(1), object(1)\n",
      "memory usage: 2.2+ KB\n",
      "None\n",
      "\n",
      "departments:\n",
      "<class 'pandas.core.frame.DataFrame'>\n",
      "RangeIndex: 21 entries, 0 to 20\n",
      "Data columns (total 2 columns):\n",
      " #   Column         Non-Null Count  Dtype \n",
      "---  ------         --------------  ----- \n",
      " 0   department_id  21 non-null     int64 \n",
      " 1   department     21 non-null     object\n",
      "dtypes: int64(1), object(1)\n",
      "memory usage: 464.0+ bytes\n",
      "None\n"
     ]
    }
   ],
   "source": [
    "# Show the first rows of each dataframe\n",
    "print(\"First rows of each dataset:\")\n",
    "print(\"orders:\")\n",
    "print(orders.head())\n",
    "print(\"\\nproducts:\")\n",
    "print(products.head())\n",
    "print(\"\\norder_products:\")\n",
    "print(order_products.head())\n",
    "print(\"\\naisles:\")\n",
    "print(aisles.head())\n",
    "print(\"\\ndepartments:\")\n",
    "print(departments.head())\n",
    "\n",
    "# General info of each dataframe\n",
    "print(\"\\nGeneral info for each dataset:\")\n",
    "print(\"orders:\")\n",
    "print(orders.info())\n",
    "print(\"\\nproducts:\")\n",
    "print(products.info())\n",
    "print(\"\\norder_products:\")\n",
    "print(order_products.info(show_counts=True))  # show_counts=True for large datasets\n",
    "print(\"\\naisles:\")\n",
    "print(aisles.info())\n",
    "print(\"\\ndepartments:\")\n",
    "print(departments.info())"
   ]
  },
  {
   "cell_type": "markdown",
   "id": "45210b62",
   "metadata": {},
   "source": [
    "### 1.4 Fix data types"
   ]
  },
  {
   "cell_type": "code",
   "execution_count": 62,
   "id": "cd6839b0",
   "metadata": {},
   "outputs": [],
   "source": [
    "# Convert relevant columns to int or float if needed (example for orders)\n",
    "orders['order_id'] = orders['order_id'].astype(int)\n",
    "orders['user_id'] = orders['user_id'].astype(int)\n",
    "orders['order_number'] = orders['order_number'].astype(int)\n",
    "orders['order_dow'] = orders['order_dow'].astype(int)\n",
    "orders['order_hour_of_day'] = orders['order_hour_of_day'].astype(int)\n",
    "# days_since_prior_order has NaNs, keep as float"
   ]
  },
  {
   "cell_type": "markdown",
   "id": "e8113a5d",
   "metadata": {},
   "source": [
    "### 1.5 Handle missing values"
   ]
  },
  {
   "cell_type": "code",
   "execution_count": 63,
   "id": "63808b7f",
   "metadata": {},
   "outputs": [
    {
     "name": "stdout",
     "output_type": "stream",
     "text": [
      "Nulls in add_to_cart_order: 836\n"
     ]
    }
   ],
   "source": [
    "# For orders.days_since_prior_order, fill nulls with 0 (assuming first order)\n",
    "orders['days_since_prior_order'].fillna(0, inplace=True)\n",
    "\n",
    "# For order_products.add_to_cart_order, check how many nulls\n",
    "print(f\"Nulls in add_to_cart_order: {order_products['add_to_cart_order'].isnull().sum()}\")\n",
    "\n",
    "# If few nulls, you can fill with median or mode; else investigate further\n",
    "order_products['add_to_cart_order'].fillna(order_products['add_to_cart_order'].median(), inplace=True)"
   ]
  },
  {
   "cell_type": "markdown",
   "id": "955a74fa",
   "metadata": {},
   "source": [
    "### 1.6 Detect and remove duplicates"
   ]
  },
  {
   "cell_type": "code",
   "execution_count": 64,
   "id": "aba80d27",
   "metadata": {},
   "outputs": [
    {
     "name": "stdout",
     "output_type": "stream",
     "text": [
      "Orders duplicates: 15\n",
      "Products duplicates: 0\n",
      "Order_products duplicates: 0\n",
      "Aisles duplicates: 0\n",
      "Departments duplicates: 0\n"
     ]
    }
   ],
   "source": [
    "# Check duplicates in each DataFrame\n",
    "print(f\"Orders duplicates: {orders.duplicated().sum()}\")\n",
    "print(f\"Products duplicates: {products.duplicated().sum()}\")\n",
    "print(f\"Order_products duplicates: {order_products.duplicated().sum()}\")\n",
    "print(f\"Aisles duplicates: {aisles.duplicated().sum()}\")\n",
    "print(f\"Departments duplicates: {departments.duplicated().sum()}\")"
   ]
  },
  {
   "cell_type": "code",
   "execution_count": 65,
   "id": "12ca6440",
   "metadata": {},
   "outputs": [],
   "source": [
    "# Remove duplicates from orders\n",
    "orders.drop_duplicates(inplace=True)"
   ]
  },
  {
   "cell_type": "markdown",
   "id": "e20b3547",
   "metadata": {},
   "source": [
    "### 1.7 Simple exploratory plots example"
   ]
  },
  {
   "cell_type": "code",
   "execution_count": 66,
   "id": "361469e3",
   "metadata": {},
   "outputs": [
    {
     "data": {
      "image/png": "[encoded data removed]",
      "text/plain": [
       "<Figure size 1000x600 with 1 Axes>"
      ]
     },
     "metadata": {},
     "output_type": "display_data"
    },
    {
     "data": {
      "image/png": "[encoded data removed]",
      "text/plain": [
       "<Figure size 1000x600 with 1 Axes>"
      ]
     },
     "metadata": {},
     "output_type": "display_data"
    }
   ],
   "source": [
    "import matplotlib.pyplot as plt\n",
    "import seaborn as sns\n",
    "\n",
    "# Orders by hour of day\n",
    "plt.figure(figsize=(10,6))\n",
    "sns.countplot(x='order_hour_of_day', data=orders, color='skyblue')\n",
    "plt.title('Number of Orders by Hour of Day')\n",
    "plt.xlabel('Hour of Day')\n",
    "plt.ylabel('Number of Orders')\n",
    "plt.show()\n",
    "\n",
    "# Orders by day of week\n",
    "plt.figure(figsize=(10,6))\n",
    "sns.countplot(x='order_dow', data=orders, color='salmon')\n",
    "plt.title('Number of Orders by Day of Week (0=Sunday)')\n",
    "plt.xlabel('Day of Week')\n",
    "plt.ylabel('Number of Orders')\n",
    "plt.show()"
   ]
  },
  {
   "cell_type": "markdown",
   "id": "692e3f53",
   "metadata": {},
   "source": [
    "### 1.8 Merge tables for product info"
   ]
  },
  {
   "cell_type": "code",
   "execution_count": 67,
   "id": "fdd3aa53",
   "metadata": {},
   "outputs": [
    {
     "name": "stdout",
     "output_type": "stream",
     "text": [
      "Banana                      66050\n",
      "Bag of Organic Bananas      53297\n",
      "Organic Strawberries        37039\n",
      "Organic Baby Spinach        33971\n",
      "Organic Hass Avocado        29773\n",
      "Organic Avocado             24689\n",
      "Large Lemon                 21495\n",
      "Strawberries                20018\n",
      "Limes                       19690\n",
      "Organic Whole Milk          19600\n",
      "Organic Raspberries         19197\n",
      "Organic Yellow Onion        15898\n",
      "Organic Garlic              15292\n",
      "Organic Zucchini            14584\n",
      "Organic Blueberries         13879\n",
      "Cucumber Kirby              13675\n",
      "Organic Fuji Apple          12544\n",
      "Organic Lemon               12232\n",
      "Apple Honeycrisp Organic    11993\n",
      "Organic Grape Tomatoes      11781\n",
      "Name: product_name, dtype: int64\n"
     ]
    }
   ],
   "source": [
    "# Merge order_products with products to get product names in orders\n",
    "orders_products_merged = order_products.merge(products[['product_id', 'product_name']], on='product_id', how='left')\n",
    "\n",
    "# Example: top 20 most ordered products\n",
    "top_products = orders_products_merged['product_name'].value_counts().head(20)\n",
    "print(top_products)"
   ]
  },
  {
   "cell_type": "code",
   "execution_count": null,
   "id": "cddd3dad",
   "metadata": {},
   "outputs": [],
   "source": []
  },
  {
   "cell_type": "code",
   "execution_count": null,
   "id": "7caf8f2c",
   "metadata": {},
   "outputs": [],
   "source": []
  }
 ],
 "metadata": {
  "kernelspec": {
   "display_name": "Python 3 (ipykernel)",
   "language": "python",
   "name": "python3"
  },
  "language_info": {
   "codemirror_mode": {
    "name": "ipython",
    "version": 3
   },
   "file_extension": ".py",
   "mimetype": "text/x-python",
   "name": "python",
   "nbconvert_exporter": "python",
   "pygments_lexer": "ipython3",
   "version": "3.7.12"
  }
 },
 "nbformat": 4,
 "nbformat_minor": 5
}
