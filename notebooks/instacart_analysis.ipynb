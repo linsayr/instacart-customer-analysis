{
 "cells": [
  {
   "cell_type": "markdown",
   "id": "e1ca70f3",
   "metadata": {},
   "source": [
    "# 🛒 Instacart Customer Behavior Analysis\n",
    "\n",
    "This notebook analyzes customer order data from Instacart to uncover shopping patterns, such as popular times to order, most reordered products, and more."
   ]
  },
  {
   "cell_type": "markdown",
   "id": "056206ea",
   "metadata": {},
   "source": [
    "### 1.1 Import Libraries"
   ]
  },
  {
   "cell_type": "code",
   "execution_count": 5,
   "id": "4e50d424",
   "metadata": {},
   "outputs": [],
   "source": [
    "import pandas as pd\n",
    "import numpy as np\n",
    "import matplotlib.pyplot as plt\n",
    "import seaborn as sns"
   ]
  },
  {
   "cell_type": "markdown",
   "id": "e88b15c4",
   "metadata": {},
   "source": [
    "### 1.2 Load datasets"
   ]
  },
  {
   "cell_type": "code",
   "execution_count": 6,
   "id": "dbf4cfd8",
   "metadata": {},
   "outputs": [],
   "source": [
    "orders = pd.read_csv('../data/instacart_orders.csv')\n",
    "products = pd.read_csv('../data/products.csv')\n",
    "order_products = pd.read_csv('../data/order_products.csv')\n",
    "aisles = pd.read_csv('../data/aisles.csv')\n",
    "departments = pd.read_csv('../data/departments.csv')"
   ]
  },
  {
   "cell_type": "markdown",
   "id": "afd4dfb4",
   "metadata": {},
   "source": [
    "### 1.3 Quick Overview"
   ]
  },
  {
   "cell_type": "code",
   "execution_count": null,
   "id": "96cb5fb0",
   "metadata": {},
   "outputs": [],
   "source": []
  },
  {
   "cell_type": "code",
   "execution_count": null,
   "id": "9a6b580b",
   "metadata": {},
   "outputs": [],
   "source": []
  }
 ],
 "metadata": {
  "kernelspec": {
   "display_name": "Python 3 (ipykernel)",
   "language": "python",
   "name": "python3"
  },
  "language_info": {
   "codemirror_mode": {
    "name": "ipython",
    "version": 3
   },
   "file_extension": ".py",
   "mimetype": "text/x-python",
   "name": "python",
   "nbconvert_exporter": "python",
   "pygments_lexer": "ipython3",
   "version": "3.7.12"
  }
 },
 "nbformat": 4,
 "nbformat_minor": 5
}
